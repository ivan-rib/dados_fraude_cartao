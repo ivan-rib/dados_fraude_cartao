{
  "nbformat": 4,
  "nbformat_minor": 0,
  "metadata": {
    "colab": {
      "name": "credit_car.ipynb",
      "provenance": [],
      "collapsed_sections": [],
      "authorship_tag": "ABX9TyOLDmtdLBpumPmHxLruX+UA",
      "include_colab_link": true
    },
    "kernelspec": {
      "name": "python3",
      "display_name": "Python 3"
    },
    "language_info": {
      "name": "python"
    }
  },
  "cells": [
    {
      "cell_type": "markdown",
      "metadata": {
        "id": "view-in-github",
        "colab_type": "text"
      },
      "source": [
        "<a href=\"https://colab.research.google.com/github/ivan-rib/dados_fraude_cartao/blob/main/fraude_cartao_credito.ipynb\" target=\"_parent\"><img src=\"https://colab.research.google.com/assets/colab-badge.svg\" alt=\"Open In Colab\"/></a>"
      ]
    },
    {
      "cell_type": "markdown",
      "source": [
        "#Instalando o spark e craiando uma spark session"
      ],
      "metadata": {
        "id": "BpZeyMoNV35u"
      }
    },
    {
      "cell_type": "code",
      "execution_count": 1,
      "metadata": {
        "id": "rSzKzSczTroP"
      },
      "outputs": [],
      "source": [
        "!apt-get install openjdk-8-jdk-headless -qq > /dev/null\n",
        "!wget -q https://archive.apache.org/dist/spark/spark-2.4.4/spark-2.4.4-bin-hadoop2.7.tgz\n",
        "!tar xf spark-2.4.4-bin-hadoop2.7.tgz\n",
        "!pip install -q findspark"
      ]
    },
    {
      "cell_type": "code",
      "source": [
        "import os\n",
        "os.environ[\"JAVA_HOME\"] = \"/usr/lib/jvm/java-8-openjdk-amd64\"\n",
        "os.environ[\"SPARK_HOME\"] = \"/content/spark-2.4.4-bin-hadoop2.7\"\n",
        "\n",
        "# tornar o pyspark \"importável\"\n",
        "import findspark\n",
        "findspark.init('spark-2.4.4-bin-hadoop2.7')"
      ],
      "metadata": {
        "id": "zd2xQ8maU6vE"
      },
      "execution_count": 2,
      "outputs": []
    },
    {
      "cell_type": "code",
      "source": [
        "pip install pyspark"
      ],
      "metadata": {
        "colab": {
          "base_uri": "https://localhost:8080/",
          "height": 366
        },
        "id": "LMF1os0SWrFW",
        "outputId": "45651c58-7544-46d2-a5bc-48525ee4b423"
      },
      "execution_count": 5,
      "outputs": [
        {
          "output_type": "stream",
          "name": "stdout",
          "text": [
            "Looking in indexes: https://pypi.org/simple, https://us-python.pkg.dev/colab-wheels/public/simple/\n",
            "Collecting pyspark\n",
            "  Downloading pyspark-3.2.1.tar.gz (281.4 MB)\n",
            "\u001b[K     |████████████████████████████████| 281.4 MB 34 kB/s \n",
            "\u001b[?25hCollecting py4j==0.10.9.3\n",
            "  Downloading py4j-0.10.9.3-py2.py3-none-any.whl (198 kB)\n",
            "\u001b[K     |████████████████████████████████| 198 kB 17.4 MB/s \n",
            "\u001b[?25hBuilding wheels for collected packages: pyspark\n",
            "  Building wheel for pyspark (setup.py) ... \u001b[?25l\u001b[?25hdone\n",
            "  Created wheel for pyspark: filename=pyspark-3.2.1-py2.py3-none-any.whl size=281853642 sha256=89115990b6b579422bc7935b5eaebdf870e1037c23ba80e1159c6dad27dd7813\n",
            "  Stored in directory: /root/.cache/pip/wheels/9f/f5/07/7cd8017084dce4e93e84e92efd1e1d5334db05f2e83bcef74f\n",
            "Successfully built pyspark\n",
            "Installing collected packages: py4j, pyspark\n",
            "Successfully installed py4j-0.10.9.3 pyspark-3.2.1\n"
          ]
        },
        {
          "output_type": "display_data",
          "data": {
            "application/vnd.colab-display-data+json": {
              "pip_warning": {
                "packages": [
                  "py4j",
                  "pyspark"
                ]
              }
            }
          },
          "metadata": {}
        }
      ]
    },
    {
      "cell_type": "code",
      "source": [
        "from pyspark.sql.functions import *\n",
        "from pyspark.sql import SparkSession\n",
        "spark = SparkSession.builder.master('local[*]').getOrCreate()"
      ],
      "metadata": {
        "id": "vhFkymv7VWAs"
      },
      "execution_count": 12,
      "outputs": []
    },
    {
      "cell_type": "markdown",
      "source": [
        "## lendo arquivo csv utilizando pyspark"
      ],
      "metadata": {
        "id": "XsO4K8vzXbcn"
      }
    },
    {
      "cell_type": "code",
      "source": [
        "#lendo csv do primeiro dataset\n",
        "df_test = spark.read.format('csv') \\\n",
        "  .option(\"header\",\"true\")\\\n",
        "\t.option(\"delimiter\",\",\")\\\n",
        "  .option(\"encoding\", \"ISO-8859-1\")\\\n",
        "\t.option(\"inferSchema\",\"true\")\\\n",
        "  .load('/content/fraudTest.csv')"
      ],
      "metadata": {
        "id": "EUmLPEnbVYVZ"
      },
      "execution_count": 6,
      "outputs": []
    },
    {
      "cell_type": "code",
      "source": [
        "df_test.show(5, truncate = False)"
      ],
      "metadata": {
        "colab": {
          "base_uri": "https://localhost:8080/"
        },
        "id": "PHj_lOf6XFNU",
        "outputId": "fd3af56c-0369-46e1-e280-e76754cc4fd6"
      },
      "execution_count": 7,
      "outputs": [
        {
          "output_type": "stream",
          "name": "stdout",
          "text": [
            "+---+---------------------+----------------+------------------------------------+--------------+-----+------+--------+------+---------------------------+----------+-----+-----+-------+------------------+--------+----------------------+-------------------+--------------------------------+----------+------------------+-----------+--------+\n",
            "|_c0|trans_date_trans_time|cc_num          |merchant                            |category      |amt  |first |last    |gender|street                     |city      |state|zip  |lat    |long              |city_pop|job                   |dob                |trans_num                       |unix_time |merch_lat         |merch_long |is_fraud|\n",
            "+---+---------------------+----------------+------------------------------------+--------------+-----+------+--------+------+---------------------------+----------+-----+-----+-------+------------------+--------+----------------------+-------------------+--------------------------------+----------+------------------+-----------+--------+\n",
            "|0  |2020-06-21 12:14:25  |2291163933867244|fraud_Kirlin and Sons               |personal_care |2.86 |Jeff  |Elliott |M     |351 Darlene Green          |Columbia  |SC   |29209|33.9659|-80.9355          |333497  |Mechanical engineer   |1968-03-19 00:00:00|2da90c7d74bd46a0caf3777415b3ebd3|1371816865|33.986391         |-81.200714 |0       |\n",
            "|1  |2020-06-21 12:14:33  |3573030041201292|fraud_Sporer-Keebler                |personal_care |29.84|Joanne|Williams|F     |3638 Marsh Union           |Altonah   |UT   |84002|40.3207|-110.436          |302     |Sales professional, IT|1990-01-17 00:00:00|324cc204407e99f51b0d6ca0055005e7|1371816873|39.450497999999996|-109.960431|0       |\n",
            "|2  |2020-06-21 12:14:53  |3598215285024754|fraud_Swaniawski, Nitzsche and Welch|health_fitness|41.28|Ashley|Lopez   |F     |9333 Valentine Point       |Bellmore  |NY   |11710|40.6729|-73.5365          |34496   |Librarian, public     |1970-10-21 00:00:00|c81755dbbbea9d5c77f094348a7579be|1371816893|40.49581          |-74.196111 |0       |\n",
            "|3  |2020-06-21 12:15:15  |3591919803438423|fraud_Haley Group                   |misc_pos      |60.05|Brian |Williams|M     |32941 Krystal Mill Apt. 552|Titusville|FL   |32780|28.5697|-80.8191          |54767   |Set designer          |1987-07-25 00:00:00|2159175b9efe66dc301f149d3d5abf8c|1371816915|28.812397999999998|-80.883061 |0       |\n",
            "|4  |2020-06-21 12:15:17  |3526826139003047|fraud_Johnston-Casper               |travel        |3.19 |Nathan|Massey  |M     |5783 Evan Roads Apt. 465   |Falmouth  |MI   |49632|44.2529|-85.01700000000001|1126    |Furniture designer    |1955-07-06 00:00:00|57ff021bd3f328f8738bb535c302a31b|1371816917|44.959148         |-85.884734 |0       |\n",
            "+---+---------------------+----------------+------------------------------------+--------------+-----+------+--------+------+---------------------------+----------+-----+-----+-------+------------------+--------+----------------------+-------------------+--------------------------------+----------+------------------+-----------+--------+\n",
            "only showing top 5 rows\n",
            "\n"
          ]
        }
      ]
    },
    {
      "cell_type": "code",
      "source": [
        "# contando a quantidade de linhas do dataset\n",
        "df_test.count()"
      ],
      "metadata": {
        "colab": {
          "base_uri": "https://localhost:8080/"
        },
        "id": "7LIMLIg8aRuI",
        "outputId": "80470ef0-27c7-4433-9c00-9540ce318d44"
      },
      "execution_count": 18,
      "outputs": [
        {
          "output_type": "execute_result",
          "data": {
            "text/plain": [
              "399289"
            ]
          },
          "metadata": {},
          "execution_count": 18
        }
      ]
    },
    {
      "cell_type": "markdown",
      "source": [
        "# aplicando uma consulta usando select e where"
      ],
      "metadata": {
        "id": "mSeQS0HJfItG"
      }
    },
    {
      "cell_type": "code",
      "source": [
        "df_test.select(col('first'),col('last'),col('trans_num')).where(df_test.trans_num == '2da90c7d74bd46a0caf3777415b3ebd3').show()"
      ],
      "metadata": {
        "colab": {
          "base_uri": "https://localhost:8080/"
        },
        "id": "-3K1jNYnX9nj",
        "outputId": "be1b60da-2e66-42d0-d684-1bf06ecb3aba"
      },
      "execution_count": 32,
      "outputs": [
        {
          "output_type": "stream",
          "name": "stdout",
          "text": [
            "+-----+-------+--------------------+\n",
            "|first|   last|           trans_num|\n",
            "+-----+-------+--------------------+\n",
            "| Jeff|Elliott|2da90c7d74bd46a0c...|\n",
            "+-----+-------+--------------------+\n",
            "\n"
          ]
        }
      ]
    },
    {
      "cell_type": "code",
      "source": [
        "# lendo csv do segundo dataset\n",
        "df_train = spark.read.format('csv') \\\n",
        "  .option(\"header\",\"true\")\\\n",
        "\t.option(\"delimiter\",\",\")\\\n",
        "  .option(\"encoding\", \"ISO-8859-1\")\\\n",
        "\t.option(\"inferSchema\",\"true\")\\\n",
        "  .load('/content/fraudTrain.csv')"
      ],
      "metadata": {
        "id": "qHzXGu-8XN5x"
      },
      "execution_count": 8,
      "outputs": []
    },
    {
      "cell_type": "code",
      "source": [
        "df_train.show(5, truncate = False)"
      ],
      "metadata": {
        "colab": {
          "base_uri": "https://localhost:8080/"
        },
        "id": "RTr_la1NXnJg",
        "outputId": "aa57b606-f813-4b70-ad34-1b50fe2a329d"
      },
      "execution_count": 9,
      "outputs": [
        {
          "output_type": "stream",
          "name": "stdout",
          "text": [
            "+---+---------------------+----------------+----------------------------------+-------------+------+---------+-------+------+----------------------------+--------------+-----+-----+-------+---------+--------+---------------------------------+-------------------+--------------------------------+----------+------------------+-----------+--------+\n",
            "|_c0|trans_date_trans_time|cc_num          |merchant                          |category     |amt   |first    |last   |gender|street                      |city          |state|zip  |lat    |long     |city_pop|job                              |dob                |trans_num                       |unix_time |merch_lat         |merch_long |is_fraud|\n",
            "+---+---------------------+----------------+----------------------------------+-------------+------+---------+-------+------+----------------------------+--------------+-----+-----+-------+---------+--------+---------------------------------+-------------------+--------------------------------+----------+------------------+-----------+--------+\n",
            "|0  |2019-01-01 00:00:18  |2703186189652095|fraud_Rippin, Kub and Mann        |misc_net     |4.97  |Jennifer |Banks  |F     |561 Perry Cove              |Moravian Falls|NC   |28654|36.0788|-81.1781 |3495    |Psychologist, counselling        |1988-03-09 00:00:00|0b242abb623afc578575680df30655b9|1325376018|36.011293         |-82.048315 |0       |\n",
            "|1  |2019-01-01 00:00:44  |630423337322    |fraud_Heller, Gutmann and Zieme   |grocery_pos  |107.23|Stephanie|Gill   |F     |43039 Riley Greens Suite 393|Orient        |WA   |99160|48.8878|-118.2105|149     |Special educational needs teacher|1978-06-21 00:00:00|1f76529f8574734946361c461b024d99|1325376044|49.159046999999994|-118.186462|0       |\n",
            "|2  |2019-01-01 00:00:51  |38859492057661  |fraud_Lind-Buckridge              |entertainment|220.11|Edward   |Sanchez|M     |594 White Dale Suite 530    |Malad City    |ID   |83252|42.1808|-112.262 |4154    |Nature conservation officer      |1962-01-19 00:00:00|a1a22d70485983eac12b5b88dad1cf95|1325376051|43.150704         |-112.154481|0       |\n",
            "|3  |2019-01-01 00:01:16  |3534093764340240|fraud_Kutch, Hermiston and Farrell|gas_transport|45.0  |Jeremy   |White  |M     |9443 Cynthia Court Apt. 038 |Boulder       |MT   |59632|46.2306|-112.1138|1939    |Patent attorney                  |1967-01-12 00:00:00|6b849c168bdad6f867558c3793159a81|1325376076|47.034331         |-112.561071|0       |\n",
            "|4  |2019-01-01 00:03:06  |375534208663984 |fraud_Keeling-Crist               |misc_pos     |41.96 |Tyler    |Garcia |M     |408 Bradley Rest            |Doe Hill      |VA   |24433|38.4207|-79.4629 |99      |Dance movement psychotherapist   |1986-03-28 00:00:00|a41d7549acf90789359a9aa5346dcb46|1325376186|38.674999         |-78.632459 |0       |\n",
            "+---+---------------------+----------------+----------------------------------+-------------+------+---------+-------+------+----------------------------+--------------+-----+-----+-------+---------+--------+---------------------------------+-------------------+--------------------------------+----------+------------------+-----------+--------+\n",
            "only showing top 5 rows\n",
            "\n"
          ]
        }
      ]
    },
    {
      "cell_type": "code",
      "source": [
        "## verificando se os dados do primeiro dataset aparecem no segundo\n",
        "df_train.select('first','last','trans_num').where(df_train.trans_num == '2da90c7d74bd46a0caf3777415b3ebd3').show()"
      ],
      "metadata": {
        "colab": {
          "base_uri": "https://localhost:8080/"
        },
        "id": "_DnfENDRaaAp",
        "outputId": "a1553211-df22-4d6b-94e3-78989b79afa3"
      },
      "execution_count": 37,
      "outputs": [
        {
          "output_type": "stream",
          "name": "stdout",
          "text": [
            "+-----+----+---------+\n",
            "|first|last|trans_num|\n",
            "+-----+----+---------+\n",
            "+-----+----+---------+\n",
            "\n"
          ]
        }
      ]
    },
    {
      "cell_type": "markdown",
      "source": [
        "# comparando os schemas dos datasets"
      ],
      "metadata": {
        "id": "wkgCINvxWr7F"
      }
    },
    {
      "cell_type": "code",
      "source": [
        "df_test.printSchema()"
      ],
      "metadata": {
        "colab": {
          "base_uri": "https://localhost:8080/"
        },
        "id": "K8uPpRT8Xt1C",
        "outputId": "d5831951-0038-4c25-fed4-254bc2f92315"
      },
      "execution_count": 35,
      "outputs": [
        {
          "output_type": "stream",
          "name": "stdout",
          "text": [
            "root\n",
            " |-- _c0: integer (nullable = true)\n",
            " |-- trans_date_trans_time: timestamp (nullable = true)\n",
            " |-- cc_num: long (nullable = true)\n",
            " |-- merchant: string (nullable = true)\n",
            " |-- category: string (nullable = true)\n",
            " |-- amt: double (nullable = true)\n",
            " |-- first: string (nullable = true)\n",
            " |-- last: string (nullable = true)\n",
            " |-- gender: string (nullable = true)\n",
            " |-- street: string (nullable = true)\n",
            " |-- city: string (nullable = true)\n",
            " |-- state: string (nullable = true)\n",
            " |-- zip: integer (nullable = true)\n",
            " |-- lat: double (nullable = true)\n",
            " |-- long: double (nullable = true)\n",
            " |-- city_pop: integer (nullable = true)\n",
            " |-- job: string (nullable = true)\n",
            " |-- dob: timestamp (nullable = true)\n",
            " |-- trans_num: string (nullable = true)\n",
            " |-- unix_time: integer (nullable = true)\n",
            " |-- merch_lat: double (nullable = true)\n",
            " |-- merch_long: double (nullable = true)\n",
            " |-- is_fraud: integer (nullable = true)\n",
            "\n"
          ]
        }
      ]
    },
    {
      "cell_type": "code",
      "source": [
        "df_train.printSchema()"
      ],
      "metadata": {
        "colab": {
          "base_uri": "https://localhost:8080/"
        },
        "id": "4EtEKOinfU58",
        "outputId": "c192af32-de45-47a8-a1b6-71f6965d3d1e"
      },
      "execution_count": 36,
      "outputs": [
        {
          "output_type": "stream",
          "name": "stdout",
          "text": [
            "root\n",
            " |-- _c0: integer (nullable = true)\n",
            " |-- trans_date_trans_time: timestamp (nullable = true)\n",
            " |-- cc_num: long (nullable = true)\n",
            " |-- merchant: string (nullable = true)\n",
            " |-- category: string (nullable = true)\n",
            " |-- amt: double (nullable = true)\n",
            " |-- first: string (nullable = true)\n",
            " |-- last: string (nullable = true)\n",
            " |-- gender: string (nullable = true)\n",
            " |-- street: string (nullable = true)\n",
            " |-- city: string (nullable = true)\n",
            " |-- state: string (nullable = true)\n",
            " |-- zip: integer (nullable = true)\n",
            " |-- lat: double (nullable = true)\n",
            " |-- long: double (nullable = true)\n",
            " |-- city_pop: integer (nullable = true)\n",
            " |-- job: string (nullable = true)\n",
            " |-- dob: timestamp (nullable = true)\n",
            " |-- trans_num: string (nullable = true)\n",
            " |-- unix_time: integer (nullable = true)\n",
            " |-- merch_lat: double (nullable = true)\n",
            " |-- merch_long: double (nullable = true)\n",
            " |-- is_fraud: integer (nullable = true)\n",
            "\n"
          ]
        }
      ]
    },
    {
      "cell_type": "markdown",
      "source": [
        "#concatenando dois arquivos csv"
      ],
      "metadata": {
        "id": "3T-cfAfzgSUp"
      }
    },
    {
      "cell_type": "code",
      "source": [
        "df_final = df_train.union(df_test)"
      ],
      "metadata": {
        "id": "0rFkr6byfaHn"
      },
      "execution_count": 38,
      "outputs": []
    },
    {
      "cell_type": "code",
      "source": [
        "df_final.count()"
      ],
      "metadata": {
        "colab": {
          "base_uri": "https://localhost:8080/"
        },
        "id": "JSWaq7F4gNpS",
        "outputId": "c2774d85-b10f-431a-96b9-03c28b89c483"
      },
      "execution_count": 39,
      "outputs": [
        {
          "output_type": "execute_result",
          "data": {
            "text/plain": [
              "887691"
            ]
          },
          "metadata": {},
          "execution_count": 39
        }
      ]
    },
    {
      "cell_type": "code",
      "source": [
        "df_final.show(5)"
      ],
      "metadata": {
        "colab": {
          "base_uri": "https://localhost:8080/"
        },
        "id": "3akR3Z6NgQyi",
        "outputId": "cdb6f818-a93b-4f6d-b58a-91647ae1eb56"
      },
      "execution_count": 40,
      "outputs": [
        {
          "output_type": "stream",
          "name": "stdout",
          "text": [
            "+---+---------------------+----------------+--------------------+-------------+------+---------+-------+------+--------------------+--------------+-----+-----+-------+---------+--------+--------------------+-------------------+--------------------+----------+------------------+-----------+--------+\n",
            "|_c0|trans_date_trans_time|          cc_num|            merchant|     category|   amt|    first|   last|gender|              street|          city|state|  zip|    lat|     long|city_pop|                 job|                dob|           trans_num| unix_time|         merch_lat| merch_long|is_fraud|\n",
            "+---+---------------------+----------------+--------------------+-------------+------+---------+-------+------+--------------------+--------------+-----+-----+-------+---------+--------+--------------------+-------------------+--------------------+----------+------------------+-----------+--------+\n",
            "|  0|  2019-01-01 00:00:18|2703186189652095|fraud_Rippin, Kub...|     misc_net|  4.97| Jennifer|  Banks|     F|      561 Perry Cove|Moravian Falls|   NC|28654|36.0788| -81.1781|    3495|Psychologist, cou...|1988-03-09 00:00:00|0b242abb623afc578...|1325376018|         36.011293| -82.048315|       0|\n",
            "|  1|  2019-01-01 00:00:44|    630423337322|fraud_Heller, Gut...|  grocery_pos|107.23|Stephanie|   Gill|     F|43039 Riley Green...|        Orient|   WA|99160|48.8878|-118.2105|     149|Special education...|1978-06-21 00:00:00|1f76529f857473494...|1325376044|49.159046999999994|-118.186462|       0|\n",
            "|  2|  2019-01-01 00:00:51|  38859492057661|fraud_Lind-Buckridge|entertainment|220.11|   Edward|Sanchez|     M|594 White Dale Su...|    Malad City|   ID|83252|42.1808| -112.262|    4154|Nature conservati...|1962-01-19 00:00:00|a1a22d70485983eac...|1325376051|         43.150704|-112.154481|       0|\n",
            "|  3|  2019-01-01 00:01:16|3534093764340240|fraud_Kutch, Herm...|gas_transport|  45.0|   Jeremy|  White|     M|9443 Cynthia Cour...|       Boulder|   MT|59632|46.2306|-112.1138|    1939|     Patent attorney|1967-01-12 00:00:00|6b849c168bdad6f86...|1325376076|         47.034331|-112.561071|       0|\n",
            "|  4|  2019-01-01 00:03:06| 375534208663984| fraud_Keeling-Crist|     misc_pos| 41.96|    Tyler| Garcia|     M|    408 Bradley Rest|      Doe Hill|   VA|24433|38.4207| -79.4629|      99|Dance movement ps...|1986-03-28 00:00:00|a41d7549acf907893...|1325376186|         38.674999| -78.632459|       0|\n",
            "+---+---------------------+----------------+--------------------+-------------+------+---------+-------+------+--------------------+--------------+-----+-----+-------+---------+--------+--------------------+-------------------+--------------------+----------+------------------+-----------+--------+\n",
            "only showing top 5 rows\n",
            "\n"
          ]
        }
      ]
    },
    {
      "cell_type": "markdown",
      "source": [
        "# transformação dos dados"
      ],
      "metadata": {
        "id": "FJcwdSX6W6i9"
      }
    },
    {
      "cell_type": "code",
      "source": [
        "# excluindo algumas colunas\n",
        "df_final = df_final.drop('_c0','lat','long','merch_lat','merch_long','unix_time')"
      ],
      "metadata": {
        "id": "chKWzcREgelI"
      },
      "execution_count": 43,
      "outputs": []
    },
    {
      "cell_type": "code",
      "source": [
        "df_final.show(5)"
      ],
      "metadata": {
        "colab": {
          "base_uri": "https://localhost:8080/"
        },
        "id": "UlWIUPVrhS7H",
        "outputId": "05132ad3-2b7d-4ed5-8d97-1569f9c0e329"
      },
      "execution_count": 44,
      "outputs": [
        {
          "output_type": "stream",
          "name": "stdout",
          "text": [
            "+---------------------+----------------+--------------------+-------------+------+---------+-------+------+--------------------+--------------+-----+-----+--------+--------------------+-------------------+--------------------+--------+\n",
            "|trans_date_trans_time|          cc_num|            merchant|     category|   amt|    first|   last|gender|              street|          city|state|  zip|city_pop|                 job|                dob|           trans_num|is_fraud|\n",
            "+---------------------+----------------+--------------------+-------------+------+---------+-------+------+--------------------+--------------+-----+-----+--------+--------------------+-------------------+--------------------+--------+\n",
            "|  2019-01-01 00:00:18|2703186189652095|fraud_Rippin, Kub...|     misc_net|  4.97| Jennifer|  Banks|     F|      561 Perry Cove|Moravian Falls|   NC|28654|    3495|Psychologist, cou...|1988-03-09 00:00:00|0b242abb623afc578...|       0|\n",
            "|  2019-01-01 00:00:44|    630423337322|fraud_Heller, Gut...|  grocery_pos|107.23|Stephanie|   Gill|     F|43039 Riley Green...|        Orient|   WA|99160|     149|Special education...|1978-06-21 00:00:00|1f76529f857473494...|       0|\n",
            "|  2019-01-01 00:00:51|  38859492057661|fraud_Lind-Buckridge|entertainment|220.11|   Edward|Sanchez|     M|594 White Dale Su...|    Malad City|   ID|83252|    4154|Nature conservati...|1962-01-19 00:00:00|a1a22d70485983eac...|       0|\n",
            "|  2019-01-01 00:01:16|3534093764340240|fraud_Kutch, Herm...|gas_transport|  45.0|   Jeremy|  White|     M|9443 Cynthia Cour...|       Boulder|   MT|59632|    1939|     Patent attorney|1967-01-12 00:00:00|6b849c168bdad6f86...|       0|\n",
            "|  2019-01-01 00:03:06| 375534208663984| fraud_Keeling-Crist|     misc_pos| 41.96|    Tyler| Garcia|     M|    408 Bradley Rest|      Doe Hill|   VA|24433|      99|Dance movement ps...|1986-03-28 00:00:00|a41d7549acf907893...|       0|\n",
            "+---------------------+----------------+--------------------+-------------+------+---------+-------+------+--------------------+--------------+-----+-----+--------+--------------------+-------------------+--------------------+--------+\n",
            "only showing top 5 rows\n",
            "\n"
          ]
        }
      ]
    },
    {
      "cell_type": "code",
      "source": [
        "#alterando nomes das colunas\n",
        "df_final = df_final.withColumnRenamed('trans_date_trans_time', 'data_transacao') \\\n",
        "          .withColumnRenamed('cc_num', 'codigo_cartao') \\\n",
        "          .withColumnRenamed('merchant', 'estabelecimento')\\\n",
        "          .withColumnRenamed('category', 'categoria') \\\n",
        "          .withColumnRenamed('amt', 'valor') \\\n",
        "          .withColumnRenamed('first','primeiro_nome') \\\n",
        "          .withColumnRenamed('last', 'sobrenome') \\\n",
        "          .withColumnRenamed('gender','genero') \\\n",
        "          .withColumnRenamed('street', 'endereco') \\\n",
        "          .withColumnRenamed('city', 'cidade') \\\n",
        "          .withColumnRenamed('zip','cep') \\\n",
        "          .withColumnRenamed('state','estado') \\\n",
        "          .withColumnRenamed('city_pop', 'numero') \\\n",
        "          .withColumnRenamed('job','profissao') \\\n",
        "          .withColumnRenamed('dob','data_nasc') \\\n",
        "          .withColumnRenamed('trans_num','numero_transacao') \\\n",
        "          .withColumnRenamed('is_fraud','fraude')\n"
      ],
      "metadata": {
        "id": "X4zbbJYvhV33"
      },
      "execution_count": 68,
      "outputs": []
    },
    {
      "cell_type": "code",
      "source": [
        "df_final.show(5)"
      ],
      "metadata": {
        "colab": {
          "base_uri": "https://localhost:8080/"
        },
        "id": "QcUIzTaVkGP_",
        "outputId": "64b33d5f-a54a-409c-9ed7-0f48a4507a3b"
      },
      "execution_count": 69,
      "outputs": [
        {
          "output_type": "stream",
          "name": "stdout",
          "text": [
            "+-------------------+----------------+--------------------+-------------+------+-------------+---------+------+--------------------+--------------+------+-----+------+--------------------+-------------------+--------------------+------+--------------+----------+-----------+---------------+\n",
            "|     data_transacao|   codigo_cartao|     estabelecimento|    categoria| valor|primeiro_nome|sobrenome|genero|            endereco|        cidade|estado|  cep|numero|           profissao|          data_nasc|    numero_transacao|fraude|hora_transacao|      data|data_compra|data_nascimento|\n",
            "+-------------------+----------------+--------------------+-------------+------+-------------+---------+------+--------------------+--------------+------+-----+------+--------------------+-------------------+--------------------+------+--------------+----------+-----------+---------------+\n",
            "|2019-01-01 00:00:18|2703186189652095|fraud_Rippin, Kub...|     misc_net|  4.97|     Jennifer|    Banks|     F|      561 Perry Cove|Moravian Falls|    NC|28654|  3495|Psychologist, cou...|1988-03-09 00:00:00|0b242abb623afc578...|     0|      00:00:18|2019-01-01| 2019-01-01|     1988-03-09|\n",
            "|2019-01-01 00:00:44|    630423337322|fraud_Heller, Gut...|  grocery_pos|107.23|    Stephanie|     Gill|     F|43039 Riley Green...|        Orient|    WA|99160|   149|Special education...|1978-06-21 00:00:00|1f76529f857473494...|     0|      00:00:44|2019-01-01| 2019-01-01|     1978-06-21|\n",
            "|2019-01-01 00:00:51|  38859492057661|fraud_Lind-Buckridge|entertainment|220.11|       Edward|  Sanchez|     M|594 White Dale Su...|    Malad City|    ID|83252|  4154|Nature conservati...|1962-01-19 00:00:00|a1a22d70485983eac...|     0|      00:00:51|2019-01-01| 2019-01-01|     1962-01-19|\n",
            "|2019-01-01 00:01:16|3534093764340240|fraud_Kutch, Herm...|gas_transport|  45.0|       Jeremy|    White|     M|9443 Cynthia Cour...|       Boulder|    MT|59632|  1939|     Patent attorney|1967-01-12 00:00:00|6b849c168bdad6f86...|     0|      00:01:16|2019-01-01| 2019-01-01|     1967-01-12|\n",
            "|2019-01-01 00:03:06| 375534208663984| fraud_Keeling-Crist|     misc_pos| 41.96|        Tyler|   Garcia|     M|    408 Bradley Rest|      Doe Hill|    VA|24433|    99|Dance movement ps...|1986-03-28 00:00:00|a41d7549acf907893...|     0|      00:03:06|2019-01-01| 2019-01-01|     1986-03-28|\n",
            "+-------------------+----------------+--------------------+-------------+------+-------------+---------+------+--------------------+--------------+------+-----+------+--------------------+-------------------+--------------------+------+--------------+----------+-----------+---------------+\n",
            "only showing top 5 rows\n",
            "\n"
          ]
        }
      ]
    },
    {
      "cell_type": "markdown",
      "source": [
        "#separando coluna data_operação e dob em duas\n"
      ],
      "metadata": {
        "id": "c7-gUgvbq3dq"
      }
    },
    {
      "cell_type": "code",
      "source": [
        "# criando a variavel que recebe o split(separação)\n",
        "split_cols = split(df_final['data_transacao'], ' ')\n",
        "split_cols1 = split(df_final['data_nasc'], ' ')\n",
        "  \n",
        "#separando os dados das colunas data_transacao e dob\n",
        "df_final = df_final.withColumn('hora_transacao', split_cols.getItem(1)) \\\n",
        "            .withColumn('data_compra', split_cols.getItem(0)) \\\n",
        "            .withColumn('data_nascimento', split_cols1.getItem(0))\n",
        "    \n",
        "  \n",
        "# show df\n",
        "df_final.show(5)"
      ],
      "metadata": {
        "colab": {
          "base_uri": "https://localhost:8080/"
        },
        "id": "WCiPKBZTmwd0",
        "outputId": "d2de1ab7-167d-4a5d-ca12-97d1ae6b67cd"
      },
      "execution_count": 67,
      "outputs": [
        {
          "output_type": "stream",
          "name": "stdout",
          "text": [
            "+-------------------+----------------+--------------------+-------------+------+-------------+---------+------+--------------------+--------------+------+-----+------+--------------------+-------------------+--------------------+------+--------------+----------+-----------+---------------+\n",
            "|     data_transacao|   codigo_cartao|     estabelecimento|    categoria| valor|primeiro_nome|sobrenome|genero|            endereco|        cidade|estado|  cep|numero|           profissao|          data_nasc|    numero_transacao|fraude|hora_transacao|      data|data_compra|data_nascimento|\n",
            "+-------------------+----------------+--------------------+-------------+------+-------------+---------+------+--------------------+--------------+------+-----+------+--------------------+-------------------+--------------------+------+--------------+----------+-----------+---------------+\n",
            "|2019-01-01 00:00:18|2703186189652095|fraud_Rippin, Kub...|     misc_net|  4.97|     Jennifer|    Banks|     F|      561 Perry Cove|Moravian Falls|    NC|28654|  3495|Psychologist, cou...|1988-03-09 00:00:00|0b242abb623afc578...|     0|      00:00:18|2019-01-01| 2019-01-01|     1988-03-09|\n",
            "|2019-01-01 00:00:44|    630423337322|fraud_Heller, Gut...|  grocery_pos|107.23|    Stephanie|     Gill|     F|43039 Riley Green...|        Orient|    WA|99160|   149|Special education...|1978-06-21 00:00:00|1f76529f857473494...|     0|      00:00:44|2019-01-01| 2019-01-01|     1978-06-21|\n",
            "|2019-01-01 00:00:51|  38859492057661|fraud_Lind-Buckridge|entertainment|220.11|       Edward|  Sanchez|     M|594 White Dale Su...|    Malad City|    ID|83252|  4154|Nature conservati...|1962-01-19 00:00:00|a1a22d70485983eac...|     0|      00:00:51|2019-01-01| 2019-01-01|     1962-01-19|\n",
            "|2019-01-01 00:01:16|3534093764340240|fraud_Kutch, Herm...|gas_transport|  45.0|       Jeremy|    White|     M|9443 Cynthia Cour...|       Boulder|    MT|59632|  1939|     Patent attorney|1967-01-12 00:00:00|6b849c168bdad6f86...|     0|      00:01:16|2019-01-01| 2019-01-01|     1967-01-12|\n",
            "|2019-01-01 00:03:06| 375534208663984| fraud_Keeling-Crist|     misc_pos| 41.96|        Tyler|   Garcia|     M|    408 Bradley Rest|      Doe Hill|    VA|24433|    99|Dance movement ps...|1986-03-28 00:00:00|a41d7549acf907893...|     0|      00:03:06|2019-01-01| 2019-01-01|     1986-03-28|\n",
            "+-------------------+----------------+--------------------+-------------+------+-------------+---------+------+--------------------+--------------+------+-----+------+--------------------+-------------------+--------------------+------+--------------+----------+-----------+---------------+\n",
            "only showing top 5 rows\n",
            "\n"
          ]
        }
      ]
    },
    {
      "cell_type": "code",
      "source": [
        "#excluindo colunas que foram separadas em outras\n",
        "df_final = df_final.drop('data_transacao','data_nasc','data')"
      ],
      "metadata": {
        "id": "lDGo7no_n5OJ"
      },
      "execution_count": 70,
      "outputs": []
    },
    {
      "cell_type": "code",
      "source": [
        "df_final.show(5)"
      ],
      "metadata": {
        "colab": {
          "base_uri": "https://localhost:8080/"
        },
        "id": "vg9tcHCErP_p",
        "outputId": "3f400c16-403d-45c7-e1ef-55b3d26733e4"
      },
      "execution_count": 71,
      "outputs": [
        {
          "output_type": "stream",
          "name": "stdout",
          "text": [
            "+----------------+--------------------+-------------+------+-------------+---------+------+--------------------+--------------+------+-----+------+--------------------+--------------------+------+--------------+-----------+---------------+\n",
            "|   codigo_cartao|     estabelecimento|    categoria| valor|primeiro_nome|sobrenome|genero|            endereco|        cidade|estado|  cep|numero|           profissao|    numero_transacao|fraude|hora_transacao|data_compra|data_nascimento|\n",
            "+----------------+--------------------+-------------+------+-------------+---------+------+--------------------+--------------+------+-----+------+--------------------+--------------------+------+--------------+-----------+---------------+\n",
            "|2703186189652095|fraud_Rippin, Kub...|     misc_net|  4.97|     Jennifer|    Banks|     F|      561 Perry Cove|Moravian Falls|    NC|28654|  3495|Psychologist, cou...|0b242abb623afc578...|     0|      00:00:18| 2019-01-01|     1988-03-09|\n",
            "|    630423337322|fraud_Heller, Gut...|  grocery_pos|107.23|    Stephanie|     Gill|     F|43039 Riley Green...|        Orient|    WA|99160|   149|Special education...|1f76529f857473494...|     0|      00:00:44| 2019-01-01|     1978-06-21|\n",
            "|  38859492057661|fraud_Lind-Buckridge|entertainment|220.11|       Edward|  Sanchez|     M|594 White Dale Su...|    Malad City|    ID|83252|  4154|Nature conservati...|a1a22d70485983eac...|     0|      00:00:51| 2019-01-01|     1962-01-19|\n",
            "|3534093764340240|fraud_Kutch, Herm...|gas_transport|  45.0|       Jeremy|    White|     M|9443 Cynthia Cour...|       Boulder|    MT|59632|  1939|     Patent attorney|6b849c168bdad6f86...|     0|      00:01:16| 2019-01-01|     1967-01-12|\n",
            "| 375534208663984| fraud_Keeling-Crist|     misc_pos| 41.96|        Tyler|   Garcia|     M|    408 Bradley Rest|      Doe Hill|    VA|24433|    99|Dance movement ps...|a41d7549acf907893...|     0|      00:03:06| 2019-01-01|     1986-03-28|\n",
            "+----------------+--------------------+-------------+------+-------------+---------+------+--------------------+--------------+------+-----+------+--------------------+--------------------+------+--------------+-----------+---------------+\n",
            "only showing top 5 rows\n",
            "\n"
          ]
        }
      ]
    },
    {
      "cell_type": "code",
      "source": [
        "df_final.select('hora_transacao','estabelecimento','categoria','fraude').where(df_final.fraude == 1).show(5)"
      ],
      "metadata": {
        "colab": {
          "base_uri": "https://localhost:8080/"
        },
        "id": "Rl0Ntdd3rSm1",
        "outputId": "181dc5f6-fb44-4e4e-a279-ee49bee4bc5c"
      },
      "execution_count": 76,
      "outputs": [
        {
          "output_type": "stream",
          "name": "stdout",
          "text": [
            "+--------------+--------------------+-------------+------+\n",
            "|hora_transacao|     estabelecimento|    categoria|fraude|\n",
            "+--------------+--------------------+-------------+------+\n",
            "|      01:06:37|fraud_Rutherford-...|  grocery_pos|     1|\n",
            "|      01:47:29|fraud_Jenkins, Ha...|gas_transport|     1|\n",
            "|      03:05:23|fraud_Goodwin-Nit...|  grocery_pos|     1|\n",
            "|      03:38:03|fraud_Erdman-Kert...|gas_transport|     1|\n",
            "|      03:55:47|  fraud_Koepp-Parker|  grocery_pos|     1|\n",
            "+--------------+--------------------+-------------+------+\n",
            "only showing top 5 rows\n",
            "\n"
          ]
        }
      ]
    },
    {
      "cell_type": "markdown",
      "source": [
        "# vendo quantos valores distintos existem dentro da coluna"
      ],
      "metadata": {
        "id": "QPJyWAL7vkVt"
      }
    },
    {
      "cell_type": "code",
      "source": [
        "df_final.select(countDistinct('fraude')).show()\n"
      ],
      "metadata": {
        "colab": {
          "base_uri": "https://localhost:8080/"
        },
        "id": "oAC355yysNeB",
        "outputId": "1516ec4f-8af3-4352-f2c5-0a64418bf70a"
      },
      "execution_count": 92,
      "outputs": [
        {
          "output_type": "stream",
          "name": "stdout",
          "text": [
            "+----------------------+\n",
            "|count(DISTINCT fraude)|\n",
            "+----------------------+\n",
            "|                     2|\n",
            "+----------------------+\n",
            "\n"
          ]
        }
      ]
    },
    {
      "cell_type": "code",
      "source": [
        "#alterando valores dentros da coluna fraude\n",
        "data_ready = df_final.withColumn('fraude', regexp_replace('fraude', '0', 'nao')) \\\n",
        "                    .withColumn('fraude', regexp_replace('fraude', '1', 'sim'))"
      ],
      "metadata": {
        "id": "Nx9yfitWs0Th"
      },
      "execution_count": 133,
      "outputs": []
    },
    {
      "cell_type": "code",
      "source": [
        "data_ready.show(5)"
      ],
      "metadata": {
        "colab": {
          "base_uri": "https://localhost:8080/"
        },
        "id": "JNqJiL4zwsBx",
        "outputId": "323f7f91-74ed-4ab9-dbd6-adfbaade03bb"
      },
      "execution_count": 105,
      "outputs": [
        {
          "output_type": "stream",
          "name": "stdout",
          "text": [
            "+----------------+--------------------+-------------+------+-------------+---------+------+--------------------+--------------+------+-----+------+--------------------+--------------------+------+--------------+-----------+---------------+\n",
            "|   codigo_cartao|     estabelecimento|    categoria| valor|primeiro_nome|sobrenome|genero|            endereco|        cidade|estado|  cep|numero|           profissao|    numero_transacao|fraude|hora_transacao|data_compra|data_nascimento|\n",
            "+----------------+--------------------+-------------+------+-------------+---------+------+--------------------+--------------+------+-----+------+--------------------+--------------------+------+--------------+-----------+---------------+\n",
            "|2703186189652095|fraud_Rippin, Kub...|     misc_net|  4.97|     Jennifer|    Banks|     F|      561 Perry Cove|Moravian Falls|    NC|28654|  3495|Psychologist, cou...|0b242abb623afc578...|   sim|      00:00:18| 2019-01-01|     1988-03-09|\n",
            "|    630423337322|fraud_Heller, Gut...|  grocery_pos|107.23|    Stephanie|     Gill|     F|43039 Riley Green...|        Orient|    WA|99160|   149|Special education...|1f76529f857473494...|   sim|      00:00:44| 2019-01-01|     1978-06-21|\n",
            "|  38859492057661|fraud_Lind-Buckridge|entertainment|220.11|       Edward|  Sanchez|     M|594 White Dale Su...|    Malad City|    ID|83252|  4154|Nature conservati...|a1a22d70485983eac...|   sim|      00:00:51| 2019-01-01|     1962-01-19|\n",
            "|3534093764340240|fraud_Kutch, Herm...|gas_transport|  45.0|       Jeremy|    White|     M|9443 Cynthia Cour...|       Boulder|    MT|59632|  1939|     Patent attorney|6b849c168bdad6f86...|   sim|      00:01:16| 2019-01-01|     1967-01-12|\n",
            "| 375534208663984| fraud_Keeling-Crist|     misc_pos| 41.96|        Tyler|   Garcia|     M|    408 Bradley Rest|      Doe Hill|    VA|24433|    99|Dance movement ps...|a41d7549acf907893...|   sim|      00:03:06| 2019-01-01|     1986-03-28|\n",
            "+----------------+--------------------+-------------+------+-------------+---------+------+--------------------+--------------+------+-----+------+--------------------+--------------------+------+--------------+-----------+---------------+\n",
            "only showing top 5 rows\n",
            "\n"
          ]
        }
      ]
    },
    {
      "cell_type": "markdown",
      "source": [
        "# criando uma consulta sql com spark"
      ],
      "metadata": {
        "id": "GaqB2IyO0c0g"
      }
    },
    {
      "cell_type": "code",
      "source": [
        "data_ready.createTempView(\"data_ready\")"
      ],
      "metadata": {
        "id": "RznPaK2Qwvek"
      },
      "execution_count": 109,
      "outputs": []
    },
    {
      "cell_type": "code",
      "source": [
        "spark.sql(\"\")(\"select * from data_ready where fraude = 'nao' limit 5\").show()"
      ],
      "metadata": {
        "colab": {
          "base_uri": "https://localhost:8080/"
        },
        "id": "Fyts97_DxZK1",
        "outputId": "2cb59e7b-c127-488a-c2cd-a53cdcdca9e9"
      },
      "execution_count": 123,
      "outputs": [
        {
          "output_type": "stream",
          "name": "stdout",
          "text": [
            "+---------------+--------------------+-------------+------+-------------+---------+------+--------------------+-------------+------+-----+-------+--------------------+--------------------+------+--------------+-----------+---------------+\n",
            "|  codigo_cartao|     estabelecimento|    categoria| valor|primeiro_nome|sobrenome|genero|            endereco|       cidade|estado|  cep| numero|           profissao|    numero_transacao|fraude|hora_transacao|data_compra|data_nascimento|\n",
            "+---------------+--------------------+-------------+------+-------------+---------+------+--------------------+-------------+------+-----+-------+--------------------+--------------------+------+--------------+-----------+---------------+\n",
            "|  4613314721966|fraud_Rutherford-...|  grocery_pos|281.06|        Jason|   Murphy|     M|542 Steve Curve S...|Collettsville|    NC|28611|    885|      Soil scientist|e8a81877ae9a0a7f8...|   nao|      01:06:37| 2019-01-02|     1988-09-15|\n",
            "|340187018810220|fraud_Jenkins, Ha...|gas_transport| 11.52|        Misty|     Hart|     F|27954 Hall Mill S...|  San Antonio|    TX|78208|1595797|Horticultural con...|bc7d41c41103877b0...|   nao|      01:47:29| 2019-01-02|     1960-10-28|\n",
            "|340187018810220|fraud_Goodwin-Nit...|  grocery_pos|276.31|        Misty|     Hart|     F|27954 Hall Mill S...|  San Antonio|    TX|78208|1595797|Horticultural con...|b98f12f4168391b22...|   nao|      03:05:23| 2019-01-02|     1960-10-28|\n",
            "|  4613314721966|fraud_Erdman-Kert...|gas_transport|  7.03|        Jason|   Murphy|     M|542 Steve Curve S...|Collettsville|    NC|28611|    885|      Soil scientist|397894a5c4c02e3c6...|   nao|      03:38:03| 2019-01-02|     1988-09-15|\n",
            "|340187018810220|  fraud_Koepp-Parker|  grocery_pos|275.73|        Misty|     Hart|     F|27954 Hall Mill S...|  San Antonio|    TX|78208|1595797|Horticultural con...|7863235a750d73a24...|   nao|      03:55:47| 2019-01-02|     1960-10-28|\n",
            "+---------------+--------------------+-------------+------+-------------+---------+------+--------------------+-------------+------+-----+-------+--------------------+--------------------+------+--------------+-----------+---------------+\n",
            "\n"
          ]
        }
      ]
    },
    {
      "cell_type": "markdown",
      "source": [
        "# criando data frames para compras fraudulentas e não fraudulentas"
      ],
      "metadata": {
        "id": "7xbZckJUM2rm"
      }
    },
    {
      "cell_type": "code",
      "source": [
        "compras_fraudulentas = data_ready.select('codigo_cartao','estabelecimento',\n",
        "                                         'valor','primeiro_nome','sobrenome','endereco','cidade',\n",
        "                                         'numero_transacao','hora_transacao','data_compra') \\\n",
        "                      .where(data_ready.fraude == 'sim')\n",
        "\n",
        "compras_fraudulentas.show(5, truncate =False)"
      ],
      "metadata": {
        "colab": {
          "base_uri": "https://localhost:8080/"
        },
        "id": "mXrYvIysMmNY",
        "outputId": "a78bcf57-a865-4981-b302-53eb77a41a7a"
      },
      "execution_count": 134,
      "outputs": [
        {
          "output_type": "stream",
          "name": "stdout",
          "text": [
            "+---------------+--------------------------------+------+-------------+---------+-------------------------+-------------+--------------------------------+--------------+-----------+\n",
            "|codigo_cartao  |estabelecimento                 |valor |primeiro_nome|sobrenome|endereco                 |cidade       |numero_transacao                |hora_transacao|data_compra|\n",
            "+---------------+--------------------------------+------+-------------+---------+-------------------------+-------------+--------------------------------+--------------+-----------+\n",
            "|4613314721966  |fraud_Rutherford-Mertz          |281.06|Jason        |Murphy   |542 Steve Curve Suite 011|Collettsville|e8a81877ae9a0a7f883e15cb39dc4022|01:06:37      |2019-01-02 |\n",
            "|340187018810220|fraud_Jenkins, Hauck and Friesen|11.52 |Misty        |Hart     |27954 Hall Mill Suite 575|San Antonio  |bc7d41c41103877b03232f03f1f8d3f5|01:47:29      |2019-01-02 |\n",
            "|340187018810220|fraud_Goodwin-Nitzsche          |276.31|Misty        |Hart     |27954 Hall Mill Suite 575|San Antonio  |b98f12f4168391b2203238813df5aa8c|03:05:23      |2019-01-02 |\n",
            "|4613314721966  |fraud_Erdman-Kertzmann          |7.03  |Jason        |Murphy   |542 Steve Curve Suite 011|Collettsville|397894a5c4c02e3c61c784001f0f14e4|03:38:03      |2019-01-02 |\n",
            "|340187018810220|fraud_Koepp-Parker              |275.73|Misty        |Hart     |27954 Hall Mill Suite 575|San Antonio  |7863235a750d73a244c07f1fb7f0185a|03:55:47      |2019-01-02 |\n",
            "+---------------+--------------------------------+------+-------------+---------+-------------------------+-------------+--------------------------------+--------------+-----------+\n",
            "only showing top 5 rows\n",
            "\n"
          ]
        }
      ]
    },
    {
      "cell_type": "code",
      "source": [
        "compras_nao_fraudulentas = data_ready.select('codigo_cartao','estabelecimento',\n",
        "                                         'valor','primeiro_nome','sobrenome','endereco','cidade',\n",
        "                                         'numero_transacao','hora_transacao','data_compra') \\\n",
        "                      .where(data_ready.fraude == 'nao')\n",
        "\n",
        "compras_nao_fraudulentas.show(5, truncate = False)"
      ],
      "metadata": {
        "colab": {
          "base_uri": "https://localhost:8080/"
        },
        "id": "pcCYgcqmOYUy",
        "outputId": "21363ba6-5c9a-41b9-a3c9-8a161f5afe3e"
      },
      "execution_count": 135,
      "outputs": [
        {
          "output_type": "stream",
          "name": "stdout",
          "text": [
            "+----------------+----------------------------------+------+-------------+---------+----------------------------+--------------+--------------------------------+--------------+-----------+\n",
            "|codigo_cartao   |estabelecimento                   |valor |primeiro_nome|sobrenome|endereco                    |cidade        |numero_transacao                |hora_transacao|data_compra|\n",
            "+----------------+----------------------------------+------+-------------+---------+----------------------------+--------------+--------------------------------+--------------+-----------+\n",
            "|2703186189652095|fraud_Rippin, Kub and Mann        |4.97  |Jennifer     |Banks    |561 Perry Cove              |Moravian Falls|0b242abb623afc578575680df30655b9|00:00:18      |2019-01-01 |\n",
            "|630423337322    |fraud_Heller, Gutmann and Zieme   |107.23|Stephanie    |Gill     |43039 Riley Greens Suite 393|Orient        |1f76529f8574734946361c461b024d99|00:00:44      |2019-01-01 |\n",
            "|38859492057661  |fraud_Lind-Buckridge              |220.11|Edward       |Sanchez  |594 White Dale Suite 530    |Malad City    |a1a22d70485983eac12b5b88dad1cf95|00:00:51      |2019-01-01 |\n",
            "|3534093764340240|fraud_Kutch, Hermiston and Farrell|45.0  |Jeremy       |White    |9443 Cynthia Court Apt. 038 |Boulder       |6b849c168bdad6f867558c3793159a81|00:01:16      |2019-01-01 |\n",
            "|375534208663984 |fraud_Keeling-Crist               |41.96 |Tyler        |Garcia   |408 Bradley Rest            |Doe Hill      |a41d7549acf90789359a9aa5346dcb46|00:03:06      |2019-01-01 |\n",
            "+----------------+----------------------------------+------+-------------+---------+----------------------------+--------------+--------------------------------+--------------+-----------+\n",
            "only showing top 5 rows\n",
            "\n"
          ]
        }
      ]
    },
    {
      "cell_type": "code",
      "source": [
        "compras_nao_fraudulentas.count()"
      ],
      "metadata": {
        "colab": {
          "base_uri": "https://localhost:8080/"
        },
        "id": "8XMPeKcoSPJd",
        "outputId": "1cc035af-dbed-408e-903a-388c28437559"
      },
      "execution_count": 136,
      "outputs": [
        {
          "output_type": "execute_result",
          "data": {
            "text/plain": [
              "882898"
            ]
          },
          "metadata": {},
          "execution_count": 136
        }
      ]
    },
    {
      "cell_type": "code",
      "source": [
        "compras_fraudulentas.count()"
      ],
      "metadata": {
        "colab": {
          "base_uri": "https://localhost:8080/"
        },
        "id": "L4B2Ieu8SaRK",
        "outputId": "2d625bfc-a370-4689-b8ff-0eec2f7fd1c7"
      },
      "execution_count": 137,
      "outputs": [
        {
          "output_type": "execute_result",
          "data": {
            "text/plain": [
              "4793"
            ]
          },
          "metadata": {},
          "execution_count": 137
        }
      ]
    },
    {
      "cell_type": "code",
      "source": [
        ""
      ],
      "metadata": {
        "id": "EplW3q8ZSuAq"
      },
      "execution_count": null,
      "outputs": []
    }
  ]
}